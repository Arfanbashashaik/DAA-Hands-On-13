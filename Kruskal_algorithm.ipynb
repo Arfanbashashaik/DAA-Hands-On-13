{
  "nbformat": 4,
  "nbformat_minor": 0,
  "metadata": {
    "colab": {
      "private_outputs": true,
      "provenance": [],
      "authorship_tag": "ABX9TyNmWZ3e4tdYuK3d0Xip/XA8",
      "include_colab_link": true
    },
    "kernelspec": {
      "name": "python3",
      "display_name": "Python 3"
    },
    "language_info": {
      "name": "python"
    }
  },
  "cells": [
    {
      "cell_type": "markdown",
      "metadata": {
        "id": "view-in-github",
        "colab_type": "text"
      },
      "source": [
        "<a href=\"https://colab.research.google.com/github/Arfanbashashaik/DAA-Hands-On-13/blob/main/Kruskal_algorithm.ipynb\" target=\"_parent\"><img src=\"https://colab.research.google.com/assets/colab-badge.svg\" alt=\"Open In Colab\"/></a>"
      ]
    },
    {
      "cell_type": "code",
      "execution_count": null,
      "metadata": {
        "id": "XEKEZHYHXDv_"
      },
      "outputs": [],
      "source": [
        "class MinimumSpanningTree:\n",
        "    def __init__(self,num_vertices):\n",
        "        self.total_vertices = num_vertices\n",
        "        self.edges= []\n",
        "    def add_edge(self, start,end, weight):\n",
        "        self.edges.append([start,end,weight])\n",
        "    def find_root(self,parents,vertex):\n",
        "        if parents[vertex]==vertex:\n",
        "            return vertex\n",
        "        return self.find_root(parents,parents[vertex])\n",
        "    def perform_union(self, parents,ranks,root1,root2):\n",
        "        root1_parent=self.find_root(parents,root1)\n",
        "        root2_parent=self.find_root(parents,root2)\n",
        "        if ranks[root1_parent]<ranks[root2_parent]:\n",
        "            parents[root1_parent]=root2_parent\n",
        "        elif ranks[root1_parent]>ranks[root2_parent]:\n",
        "            parents[root2_parent]=root1_parent\n",
        "        else:\n",
        "            parents[root2_parent]=root1_parent\n",
        "            ranks[root1_parent]+=1\n",
        "    def compute_mst(self):\n",
        "        mst=[]\n",
        "        self.edges.sort(key=lambda edge:edge[2])\n",
        "        parents = [i for i in range(self.total_vertices)]\n",
        "        ranks = [0]*self.total_vertices\n",
        "        edge_count=0\n",
        "        index=0\n",
        "        while edge_count<self.total_vertices-1:\n",
        "            source,destination,weight=self.edges[index]\n",
        "            index+=1\n",
        "            source_root=self.find_root(parents,source)\n",
        "            destination_root=self.find_root(parents,destination)\n",
        "            if source_root!=destination_root:\n",
        "                edge_count+=1\n",
        "                mst.append([source,destination,weight])\n",
        "                self.perform_union(parents,ranks,source_root,destination_root)\n",
        "        print(\"Edges in the Minimum Spanning Tree (MST):\")\n",
        "        for source, destination, weight in mst:\n",
        "            print(f\"{source} -- {destination} == {weight}\")\n",
        "\n",
        "# Example usage\n",
        "graph = MinimumSpanningTree(6)\n",
        "graph.add_edge(0,1,4)\n",
        "graph.add_edge(0,2,3)\n",
        "graph.add_edge(1,2,1)\n",
        "graph.add_edge(1,3,2)\n",
        "graph.add_edge(2,3,5)\n",
        "graph.add_edge(2,4,4)\n",
        "graph.add_edge(3,4,7)\n",
        "graph.add_edge(3,5,3)\n",
        "graph.add_edge(4,5,6)\n",
        "graph.compute_mst()\n"
      ]
    }
  ]
}