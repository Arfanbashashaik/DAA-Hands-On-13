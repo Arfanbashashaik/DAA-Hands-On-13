{
  "nbformat": 4,
  "nbformat_minor": 0,
  "metadata": {
    "colab": {
      "private_outputs": true,
      "provenance": [],
      "authorship_tag": "ABX9TyOg1RARojwWw7b+VnPvyoZN",
      "include_colab_link": true
    },
    "kernelspec": {
      "name": "python3",
      "display_name": "Python 3"
    },
    "language_info": {
      "name": "python"
    }
  },
  "cells": [
    {
      "cell_type": "markdown",
      "metadata": {
        "id": "view-in-github",
        "colab_type": "text"
      },
      "source": [
        "<a href=\"https://colab.research.google.com/github/Arfanbashashaik/DAA-Hands-On-13/blob/main/Topological_sort.ipynb\" target=\"_parent\"><img src=\"https://colab.research.google.com/assets/colab-badge.svg\" alt=\"Open In Colab\"/></a>"
      ]
    },
    {
      "cell_type": "code",
      "execution_count": null,
      "metadata": {
        "id": "oEUMJyD5Z4lK"
      },
      "outputs": [],
      "source": [
        "from collections import defaultdict\n",
        "\n",
        "class DirectedGraph:\n",
        "    def __init__(self,total_vertices):\n",
        "        self.adjacency_list=defaultdict(list)\n",
        "        self.num_vertices =total_vertices\n",
        "    def insert_edge(self,source,target):\n",
        "        self.adjacency_list[source].append(target)\n",
        "    def _dfs_topological_sort(self,current_node,visited_nodes,final_stack):\n",
        "        visited_nodes[current_node]=True\n",
        "        for adjacent in self.adjacency_list[current_node]:\n",
        "            if not visited_nodes[adjacent]:\n",
        "                self._dfs_topological_sort(adjacent,visited_nodes,final_stack)\n",
        "        final_stack.append(current_node)\n",
        "    def perform_topological_sort(self):\n",
        "        visited_nodes=[False]*self.num_vertices\n",
        "        final_stack=[]\n",
        "        for node in range(self.num_vertices):\n",
        "            if not visited_nodes[node]:\n",
        "                self._dfs_topological_sort(node,visited_nodes,final_stack)\n",
        "        return final_stack[::-1]\n",
        "# Example usage\n",
        "graph = DirectedGraph(7)\n",
        "graph.insert_edge(0,1)\n",
        "graph.insert_edge(0,2)\n",
        "graph.insert_edge(1,3)\n",
        "graph.insert_edge(1,4)\n",
        "graph.insert_edge(2,4)\n",
        "graph.insert_edge(3,5)\n",
        "graph.insert_edge(4,5)\n",
        "graph.insert_edge(5,6)\n",
        "print(\"Topological Sort:\",graph.perform_topological_sort())\n"
      ]
    },
    {
      "cell_type": "code",
      "source": [],
      "metadata": {
        "id": "gcF8HJvla4mG"
      },
      "execution_count": null,
      "outputs": []
    }
  ]
}