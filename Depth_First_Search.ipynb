{
  "nbformat": 4,
  "nbformat_minor": 0,
  "metadata": {
    "colab": {
      "private_outputs": true,
      "provenance": [],
      "authorship_tag": "ABX9TyNkSLHmZ5ZpATd1ersbjH1x",
      "include_colab_link": true
    },
    "kernelspec": {
      "name": "python3",
      "display_name": "Python 3"
    },
    "language_info": {
      "name": "python"
    }
  },
  "cells": [
    {
      "cell_type": "markdown",
      "metadata": {
        "id": "view-in-github",
        "colab_type": "text"
      },
      "source": [
        "<a href=\"https://colab.research.google.com/github/Arfanbashashaik/DAA-Hands-On-13/blob/main/Depth_First_Search.ipynb\" target=\"_parent\"><img src=\"https://colab.research.google.com/assets/colab-badge.svg\" alt=\"Open In Colab\"/></a>"
      ]
    },
    {
      "cell_type": "code",
      "execution_count": null,
      "metadata": {
        "id": "e_OwceJWT83C"
      },
      "outputs": [],
      "source": [
        "from collections import defaultdict\n",
        "\n",
        "class DFSGraph:\n",
        "    def __init__(self):\n",
        "        self.adjacency_list=defaultdict(list)\n",
        "    def insert_edge(self,source,destination):\n",
        "        self.adjacency_list[source].append(destination)\n",
        "    def depth_first_visit(self,current_node,traversal_status):\n",
        "        traversal_status[current_node]=True\n",
        "        print(current_node,end=' ')\n",
        "        for reachable_node in self.adjacency_list[current_node]:\n",
        "            if not traversal_status[reachable_node]:\n",
        "                self.depth_first_visit(reachable_node,traversal_status)\n",
        "    def perform_dfs(self,starting_node):\n",
        "        traversal_status = defaultdict(bool)\n",
        "        self.depth_first_visit(starting_node,traversal_status)\n",
        "# Example usage\n",
        "graph = DFSGraph()\n",
        "graph.insert_edge(1,2)\n",
        "graph.insert_edge(1,3)\n",
        "graph.insert_edge(2,4)\n",
        "graph.insert_edge(2,5)\n",
        "graph.insert_edge(3,6)\n",
        "graph.insert_edge(3,7)\n",
        "graph.insert_edge(4,8)\n",
        "graph.insert_edge(5,9)\n",
        "graph.insert_edge(6,10)\n",
        "graph.insert_edge(7,11)\n",
        "print(\"DFS traversal starting from node 1:\")\n",
        "graph.perform_dfs(1)\n"
      ]
    }
  ]
}